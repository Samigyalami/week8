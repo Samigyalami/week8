{
 "cells": [
  {
   "cell_type": "markdown",
   "metadata": {
    "id": "SxV-QBHp-B6J"
   },
   "source": [
    "## Helper Function for Text Cleaning:\n",
    "\n",
    "Implement a Helper Function as per Text Preprocessing Notebook and Complete the following pipeline."
   ]
  },
  {
   "cell_type": "markdown",
   "metadata": {
    "id": "B-llg-TI_Drw"
   },
   "source": [
    "# Build a Text Cleaning Pipeline"
   ]
  },
  {
   "cell_type": "code",
   "execution_count": null,
   "metadata": {
    "id": "KCT1T3-68tN9"
   },
   "outputs": [],
   "source": [
    "def text_cleaning_pipeline(dataset, rule = \"lemmatize\"):\n",
    "  \"\"\"\n",
    "  This...\n",
    "  \"\"\"\n",
    "  # Convert the input to small/lower order.\n",
    "  data =\n",
    "  # Remove URLs\n",
    "  data =\n",
    "  # Remove emojis\n",
    "  data =\n",
    "  # Remove all other unwanted characters.\n",
    "  data =\n",
    "  # Create tokens.\n",
    "  tokens = data.split()\n",
    "  # Remove stopwords:\n",
    "  tokens =\n",
    "  if rule == \"lemmatize\":\n",
    "    tokens =\n",
    "  elif rule == \"stem\":\n",
    "    tokens =\n",
    "  else:\n",
    "    print(\"Pick between lemmatize or stem\")\n",
    "\n",
    "\n",
    "  return \" \".join(tokens)\n"
   ]
  },
  {
   "cell_type": "markdown",
   "metadata": {
    "id": "hzMm4-1KCNkH"
   },
   "source": [
    "# Text Classification using Machine Learning Models\n"
   ]
  },
  {
   "cell_type": "markdown",
   "metadata": {
    "id": "oFltIxr9L2Wu"
   },
   "source": [
    "### 📝 Instructions: Trump Tweet Sentiment Classification\n",
    "\n",
    "1. **Load the Dataset**  \n",
    "   Load the dataset named `\"trump_tweet_sentiment_analysis.csv\"` using `pandas`. Ensure the dataset contains at least two columns: `\"text\"` and `\"label\"`.\n",
    "\n",
    "2. **Text Cleaning and Tokenization**  \n",
    "   Apply a text preprocessing pipeline to the `\"text\"` column. This should include:\n",
    "   - Lowercasing the text  \n",
    "   - Removing URLs, mentions, punctuation, and special characters  \n",
    "   - Removing stopwords  \n",
    "   - Tokenization (optional: stemming or lemmatization)\n",
    "   - \"Complete the above function\"\n",
    "\n",
    "3. **Train-Test Split**  \n",
    "   Split the cleaned and tokenized dataset into **training** and **testing** sets using `train_test_split` from `sklearn.model_selection`.\n",
    "\n",
    "4. **TF-IDF Vectorization**  \n",
    "   Import and use the `TfidfVectorizer` from `sklearn.feature_extraction.text` to transform the training and testing texts into numerical feature vectors.\n",
    "\n",
    "5. **Model Training and Evaluation**  \n",
    "   Import **Logistic Regression** (or any machine learning model of your choice) from `sklearn.linear_model`. Train it on the TF-IDF-embedded training data, then evaluate it using the test set.  \n",
    "   - Print the **classification report** using `classification_report` from `sklearn.metrics`.\n"
   ]
  },
  {
   "cell_type": "code",
   "execution_count": 2,
   "metadata": {},
   "outputs": [],
   "source": [
    "import pandas as pd\n",
    "import numpy as np"
   ]
  },
  {
   "cell_type": "code",
   "execution_count": 4,
   "metadata": {},
   "outputs": [],
   "source": [
    "df = pd.read_csv('trum_tweet_sentiment_analysis.csv')"
   ]
  },
  {
   "cell_type": "code",
   "execution_count": 8,
   "metadata": {},
   "outputs": [
    {
     "data": {
      "text/html": [
       "<div>\n",
       "<style scoped>\n",
       "    .dataframe tbody tr th:only-of-type {\n",
       "        vertical-align: middle;\n",
       "    }\n",
       "\n",
       "    .dataframe tbody tr th {\n",
       "        vertical-align: top;\n",
       "    }\n",
       "\n",
       "    .dataframe thead th {\n",
       "        text-align: right;\n",
       "    }\n",
       "</style>\n",
       "<table border=\"1\" class=\"dataframe\">\n",
       "  <thead>\n",
       "    <tr style=\"text-align: right;\">\n",
       "      <th></th>\n",
       "      <th>text</th>\n",
       "      <th>Sentiment</th>\n",
       "    </tr>\n",
       "  </thead>\n",
       "  <tbody>\n",
       "    <tr>\n",
       "      <th>0</th>\n",
       "      <td>RT @JohnLeguizamo: #trump not draining swamp b...</td>\n",
       "      <td>0</td>\n",
       "    </tr>\n",
       "    <tr>\n",
       "      <th>1</th>\n",
       "      <td>ICYMI: Hackers Rig FM Radio Stations To Play A...</td>\n",
       "      <td>0</td>\n",
       "    </tr>\n",
       "    <tr>\n",
       "      <th>2</th>\n",
       "      <td>Trump protests: LGBTQ rally in New York https:...</td>\n",
       "      <td>1</td>\n",
       "    </tr>\n",
       "    <tr>\n",
       "      <th>3</th>\n",
       "      <td>\"Hi I'm Piers Morgan. David Beckham is awful b...</td>\n",
       "      <td>0</td>\n",
       "    </tr>\n",
       "    <tr>\n",
       "      <th>4</th>\n",
       "      <td>RT @GlennFranco68: Tech Firm Suing BuzzFeed fo...</td>\n",
       "      <td>0</td>\n",
       "    </tr>\n",
       "  </tbody>\n",
       "</table>\n",
       "</div>"
      ],
      "text/plain": [
       "                                                text  Sentiment\n",
       "0  RT @JohnLeguizamo: #trump not draining swamp b...          0\n",
       "1  ICYMI: Hackers Rig FM Radio Stations To Play A...          0\n",
       "2  Trump protests: LGBTQ rally in New York https:...          1\n",
       "3  \"Hi I'm Piers Morgan. David Beckham is awful b...          0\n",
       "4  RT @GlennFranco68: Tech Firm Suing BuzzFeed fo...          0"
      ]
     },
     "execution_count": 8,
     "metadata": {},
     "output_type": "execute_result"
    }
   ],
   "source": [
    "df.head()"
   ]
  },
  {
   "cell_type": "code",
   "execution_count": 10,
   "metadata": {},
   "outputs": [],
   "source": [
    "import re\n",
    "import string\n",
    "from nltk.corpus import stopwords\n",
    "from nltk.tokenize import word_tokenize\n",
    "from nltk.stem import WordNetLemmatizer\n",
    "import nltk"
   ]
  },
  {
   "cell_type": "code",
   "execution_count": 12,
   "metadata": {},
   "outputs": [
    {
     "name": "stderr",
     "output_type": "stream",
     "text": [
      "[nltk_data] Downloading package punkt to\n",
      "[nltk_data]     C:\\Users\\Acer\\AppData\\Roaming\\nltk_data...\n",
      "[nltk_data]   Package punkt is already up-to-date!\n",
      "[nltk_data] Downloading package stopwords to\n",
      "[nltk_data]     C:\\Users\\Acer\\AppData\\Roaming\\nltk_data...\n",
      "[nltk_data]   Package stopwords is already up-to-date!\n",
      "[nltk_data] Downloading package wordnet to\n",
      "[nltk_data]     C:\\Users\\Acer\\AppData\\Roaming\\nltk_data...\n",
      "[nltk_data]   Package wordnet is already up-to-date!\n"
     ]
    },
    {
     "data": {
      "text/plain": [
       "True"
      ]
     },
     "execution_count": 12,
     "metadata": {},
     "output_type": "execute_result"
    }
   ],
   "source": [
    "nltk.download('punkt')\n",
    "nltk.download('stopwords')\n",
    "nltk.download('wordnet')"
   ]
  },
  {
   "cell_type": "code",
   "execution_count": 14,
   "metadata": {},
   "outputs": [],
   "source": [
    "stop_words = set(stopwords.words(\"english\"))\n",
    "lemmatizer = WordNetLemmatizer()"
   ]
  },
  {
   "cell_type": "code",
   "execution_count": 16,
   "metadata": {},
   "outputs": [
    {
     "data": {
      "text/html": [
       "<div>\n",
       "<style scoped>\n",
       "    .dataframe tbody tr th:only-of-type {\n",
       "        vertical-align: middle;\n",
       "    }\n",
       "\n",
       "    .dataframe tbody tr th {\n",
       "        vertical-align: top;\n",
       "    }\n",
       "\n",
       "    .dataframe thead th {\n",
       "        text-align: right;\n",
       "    }\n",
       "</style>\n",
       "<table border=\"1\" class=\"dataframe\">\n",
       "  <thead>\n",
       "    <tr style=\"text-align: right;\">\n",
       "      <th></th>\n",
       "      <th>text</th>\n",
       "      <th>cleaned_text</th>\n",
       "      <th>Sentiment</th>\n",
       "    </tr>\n",
       "  </thead>\n",
       "  <tbody>\n",
       "    <tr>\n",
       "      <th>0</th>\n",
       "      <td>RT @JohnLeguizamo: #trump not draining swamp b...</td>\n",
       "      <td>rt trump draining swamp taxpayer dollar trip a...</td>\n",
       "      <td>0</td>\n",
       "    </tr>\n",
       "    <tr>\n",
       "      <th>1</th>\n",
       "      <td>ICYMI: Hackers Rig FM Radio Stations To Play A...</td>\n",
       "      <td>icymi hacker rig fm radio station play antitru...</td>\n",
       "      <td>0</td>\n",
       "    </tr>\n",
       "    <tr>\n",
       "      <th>2</th>\n",
       "      <td>Trump protests: LGBTQ rally in New York https:...</td>\n",
       "      <td>trump protest lgbtq rally new york bbcworld via</td>\n",
       "      <td>1</td>\n",
       "    </tr>\n",
       "    <tr>\n",
       "      <th>3</th>\n",
       "      <td>\"Hi I'm Piers Morgan. David Beckham is awful b...</td>\n",
       "      <td>hi im pier morgan david beckham awful donald t...</td>\n",
       "      <td>0</td>\n",
       "    </tr>\n",
       "    <tr>\n",
       "      <th>4</th>\n",
       "      <td>RT @GlennFranco68: Tech Firm Suing BuzzFeed fo...</td>\n",
       "      <td>rt tech firm suing buzzfeed publishing unverif...</td>\n",
       "      <td>0</td>\n",
       "    </tr>\n",
       "  </tbody>\n",
       "</table>\n",
       "</div>"
      ],
      "text/plain": [
       "                                                text  \\\n",
       "0  RT @JohnLeguizamo: #trump not draining swamp b...   \n",
       "1  ICYMI: Hackers Rig FM Radio Stations To Play A...   \n",
       "2  Trump protests: LGBTQ rally in New York https:...   \n",
       "3  \"Hi I'm Piers Morgan. David Beckham is awful b...   \n",
       "4  RT @GlennFranco68: Tech Firm Suing BuzzFeed fo...   \n",
       "\n",
       "                                        cleaned_text  Sentiment  \n",
       "0  rt trump draining swamp taxpayer dollar trip a...          0  \n",
       "1  icymi hacker rig fm radio station play antitru...          0  \n",
       "2    trump protest lgbtq rally new york bbcworld via          1  \n",
       "3  hi im pier morgan david beckham awful donald t...          0  \n",
       "4  rt tech firm suing buzzfeed publishing unverif...          0  "
      ]
     },
     "execution_count": 16,
     "metadata": {},
     "output_type": "execute_result"
    }
   ],
   "source": [
    "def clean_text(text):\n",
    "    # Lowercase\n",
    "    text = text.lower()\n",
    "    # Remove URLs\n",
    "    text = re.sub(r\"http\\S+|www\\S+|https\\S+\", '', text, flags=re.MULTILINE)\n",
    "    # Remove mentions and hashtags\n",
    "    text = re.sub(r'\\@\\w+|\\#','', text)\n",
    "    # Remove punctuation\n",
    "    text = text.translate(str.maketrans('', '', string.punctuation))\n",
    "    # Tokenize\n",
    "    tokens = word_tokenize(text)\n",
    "    # Remove stopwords and lemmatize\n",
    "    cleaned_tokens = [lemmatizer.lemmatize(w) for w in tokens if w not in stop_words]\n",
    "    return \" \".join(cleaned_tokens)\n",
    "\n",
    "df['cleaned_text'] = df['text'].astype(str).apply(clean_text)\n",
    "df[['text', 'cleaned_text', 'Sentiment']].head()"
   ]
  },
  {
   "cell_type": "code",
   "execution_count": 17,
   "metadata": {},
   "outputs": [],
   "source": [
    "from sklearn.model_selection import train_test_split\n",
    "\n",
    "X = df['cleaned_text']\n",
    "y = df['Sentiment']  # or df['label'] depending on your dataset column\n",
    "\n",
    "X_train, X_test, y_train, y_test = train_test_split(X, y, test_size=0.2, random_state=42)\n"
   ]
  },
  {
   "cell_type": "code",
   "execution_count": 18,
   "metadata": {},
   "outputs": [],
   "source": [
    "from sklearn.feature_extraction.text import TfidfVectorizer\n",
    "\n",
    "tfidf = TfidfVectorizer(max_features=5000)\n",
    "X_train_tfidf = tfidf.fit_transform(X_train)\n",
    "X_test_tfidf = tfidf.transform(X_test)\n"
   ]
  },
  {
   "cell_type": "code",
   "execution_count": 19,
   "metadata": {},
   "outputs": [
    {
     "name": "stdout",
     "output_type": "stream",
     "text": [
      "              precision    recall  f1-score   support\n",
      "\n",
      "           0       0.94      0.96      0.95    248563\n",
      "           1       0.91      0.87      0.89    121462\n",
      "\n",
      "    accuracy                           0.93    370025\n",
      "   macro avg       0.92      0.91      0.92    370025\n",
      "weighted avg       0.93      0.93      0.93    370025\n",
      "\n"
     ]
    }
   ],
   "source": [
    "from sklearn.linear_model import LogisticRegression\n",
    "from sklearn.metrics import classification_report\n",
    "\n",
    "model = LogisticRegression()\n",
    "model.fit(X_train_tfidf, y_train)\n",
    "y_pred = model.predict(X_test_tfidf)\n",
    "\n",
    "print(classification_report(y_test, y_pred))\n"
   ]
  },
  {
   "cell_type": "code",
   "execution_count": null,
   "metadata": {},
   "outputs": [],
   "source": []
  }
 ],
 "metadata": {
  "colab": {
   "provenance": []
  },
  "kernelspec": {
   "display_name": "Python [conda env:base] *",
   "language": "python",
   "name": "conda-base-py"
  },
  "language_info": {
   "codemirror_mode": {
    "name": "ipython",
    "version": 3
   },
   "file_extension": ".py",
   "mimetype": "text/x-python",
   "name": "python",
   "nbconvert_exporter": "python",
   "pygments_lexer": "ipython3",
   "version": "3.12.7"
  }
 },
 "nbformat": 4,
 "nbformat_minor": 4
}
